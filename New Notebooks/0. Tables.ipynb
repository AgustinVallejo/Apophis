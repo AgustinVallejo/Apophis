{
 "cells": [
  {
   "cell_type": "code",
   "execution_count": 34,
   "metadata": {},
   "outputs": [],
   "source": [
    "import pandas as pd\n",
    "import numpy as np\n",
    "\n",
    "\"ASTROPY\"\n",
    "from astropy.time import Time\n",
    "from astropy.table import Table\n",
    "from astropy.coordinates import SkyCoord, EarthLocation, AltAz, get_sun\n",
    "import astropy.units as u\n",
    "\n",
    "\"MATPLOTLIB\"\n",
    "import matplotlib as mpl\n",
    "import matplotlib.pyplot as plt\n",
    "import numpy as np\n",
    "from pylab import cm\n",
    "\n",
    "mpl.rcParams['font.family'] = 'Latin Modern Roman'\n",
    "plt.rcParams['font.size'] = 20\n",
    "plt.rcParams['axes.linewidth'] = 2\n",
    "\n",
    "\"PARA IMPORTAR DE IPYNB\"\n",
    "import import_ipynb\n",
    "import utils"
   ]
  },
  {
   "cell_type": "code",
   "execution_count": 52,
   "metadata": {},
   "outputs": [],
   "source": [
    "radio =  pd.read_csv(\"../AllRadiotelescopes.csv\").dropna(axis=0,how='all')\n",
    "# ephemeris = pd.read_csv(\"../ephemeris2.csv\")\n",
    "ephemeris = pd.read_csv(\"../Data/ephemeris3.csv\")\n",
    "ephemeris['hours'] = 24*(ephemeris['datetime_jd']-ephemeris['datetime_jd'][0])\n",
    "MIN = ephemeris['delta (Rt)'].argmin()\n",
    "\n",
    "\n",
    "all_ephemeris = pd.read_csv(\"../ephemeris2.csv\")\n",
    "closest = all_ephemeris.iloc[99]"
   ]
  },
  {
   "cell_type": "code",
   "execution_count": 57,
   "metadata": {},
   "outputs": [
    {
     "data": {
      "text/plain": [
       "Unnamed: 0                            85\n",
       "Unnamed: 0.1                          85\n",
       "targetname      99942 Apophis (2004 MN4)\n",
       "datetime_str           2029-Apr-13 20:35\n",
       "datetime_jd                  2462240.358\n",
       "                          ...           \n",
       "PABLat                           -1.2631\n",
       "delta (Rt)                      7.397535\n",
       "hours                               7.08\n",
       "Longitude                       9.092651\n",
       "Latitude                         5.79384\n",
       "Name: 85, Length: 89, dtype: object"
      ]
     },
     "execution_count": 57,
     "metadata": {},
     "output_type": "execute_result"
    }
   ],
   "source": [
    "all_ephemeris.iloc[85]"
   ]
  },
  {
   "cell_type": "code",
   "execution_count": 53,
   "metadata": {},
   "outputs": [
    {
     "name": "stderr",
     "output_type": "stream",
     "text": [
      "C:\\Users\\agustin.vallejo\\AppData\\Local\\Continuum\\anaconda3\\envs\\apophis\\lib\\site-packages\\erfa\\core.py:154: ErfaWarning: ERFA function \"utcut1\" yielded 17 of \"dubious year (Note 3)\"\n",
      "  warnings.warn('ERFA function \"{}\" yielded {}'.format(func_name, wmsg),\n",
      "C:\\Users\\agustin.vallejo\\AppData\\Local\\Continuum\\anaconda3\\envs\\apophis\\lib\\site-packages\\erfa\\core.py:154: ErfaWarning: ERFA function \"utctai\" yielded 17 of \"dubious year (Note 3)\"\n",
      "  warnings.warn('ERFA function \"{}\" yielded {}'.format(func_name, wmsg),\n",
      "<ipython-input-53-97155cff9256>:17: SettingWithCopyWarning: \n",
      "A value is trying to be set on a copy of a slice from a DataFrame\n",
      "\n",
      "See the caveats in the documentation: https://pandas.pydata.org/pandas-docs/stable/user_guide/indexing.html#returning-a-view-versus-a-copy\n",
      "  closest['LON'] = closest['Longitude']\n",
      "C:\\Users\\agustin.vallejo\\AppData\\Local\\Continuum\\anaconda3\\envs\\apophis\\lib\\site-packages\\pandas\\core\\indexing.py:692: SettingWithCopyWarning: \n",
      "A value is trying to be set on a copy of a slice from a DataFrame\n",
      "\n",
      "See the caveats in the documentation: https://pandas.pydata.org/pandas-docs/stable/user_guide/indexing.html#returning-a-view-versus-a-copy\n",
      "  iloc._setitem_with_indexer(indexer, value, self.name)\n",
      "<ipython-input-53-97155cff9256>:18: SettingWithCopyWarning: \n",
      "A value is trying to be set on a copy of a slice from a DataFrame\n",
      "\n",
      "See the caveats in the documentation: https://pandas.pydata.org/pandas-docs/stable/user_guide/indexing.html#returning-a-view-versus-a-copy\n",
      "  closest['LAT'] = closest['Latitude']\n"
     ]
    }
   ],
   "source": [
    "def get_lon(TIME,RA):\n",
    "  \"\"\"\n",
    "  Gets the longitude that will be under the asteroid at every moment\n",
    "  \"\"\"\n",
    "  T = Time(TIME,format='jd')\n",
    "  G = T.sidereal_time('apparent', 'greenwich').to(u.deg)\n",
    "  return RA - G.value\n",
    "\n",
    "maxlons = get_lon(ephemeris['datetime_jd'],ephemeris['RA'])\n",
    "\n",
    "for i in range(len(maxlons)):\n",
    "  if maxlons[i] < -180: maxlons[i] += 360\n",
    "\n",
    "ephemeris['LON'] = maxlons\n",
    "ephemeris['LAT'] = ephemeris['DEC']\n",
    "\n",
    "closest['LON'] = closest['Longitude']\n",
    "closest['LAT'] = closest['Latitude']\n"
   ]
  },
  {
   "cell_type": "code",
   "execution_count": 54,
   "metadata": {},
   "outputs": [],
   "source": [
    "ephemeris_short = ephemeris[['datetime_str','LON','DEC','delta (Rt)','V']]\n",
    "ephemeris_short = ephemeris_short.iloc[::2]\n",
    "ephemeris_short = ephemeris_short.append(closest)\n",
    "ephemeris_short.to_csv(\"../Data/tabla1_posiciones.csv\")"
   ]
  }
 ],
 "metadata": {
  "interpreter": {
   "hash": "8fd45384d44992f506df23d888a8e0d719dadce2c2df5f0c282f26c3a2cf9491"
  },
  "kernelspec": {
   "display_name": "Python 3.8.8 64-bit ('apophis': conda)",
   "language": "python",
   "name": "python3"
  },
  "language_info": {
   "codemirror_mode": {
    "name": "ipython",
    "version": 3
   },
   "file_extension": ".py",
   "mimetype": "text/x-python",
   "name": "python",
   "nbconvert_exporter": "python",
   "pygments_lexer": "ipython3",
   "version": "3.8.8"
  },
  "orig_nbformat": 4
 },
 "nbformat": 4,
 "nbformat_minor": 2
}
