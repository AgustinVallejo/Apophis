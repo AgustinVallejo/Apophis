{
 "cells": [
  {
   "cell_type": "code",
   "execution_count": 2,
   "metadata": {
    "collapsed": true
   },
   "outputs": [],
   "source": [
    "import numpy as np\n",
    "import pandas as pd\n",
    "\n",
    "import astropy.units as u\n",
    "import astropy.constants as c\n",
    "import datetime"
   ]
  },
  {
   "cell_type": "code",
   "execution_count": 3,
   "metadata": {},
   "outputs": [],
   "source": [
    "\"MATPLOTLIB\"\n",
    "import matplotlib as mpl\n",
    "import matplotlib.pyplot as plt\n",
    "import numpy as np\n",
    "from pylab import cm\n",
    "import matplotlib.lines as lines\n",
    "\n",
    "mpl.rcParams['font.family'] = 'Latin Modern Roman'\n",
    "plt.rcParams['font.size'] = 20\n",
    "plt.rcParams['axes.linewidth'] = 2"
   ]
  },
  {
   "cell_type": "code",
   "execution_count": 11,
   "metadata": {
    "collapsed": true
   },
   "outputs": [],
   "source": [
    "def Gain(D,freq):\n",
    "    lam=c.c/(freq)\n",
    "    A=np.pi*(D/2)**2\n",
    "    e=1\n",
    "    G=4*np.pi*e*A/lam**2 # calculate gain (Eq. A)\n",
    "    return G.cgs\n",
    "\n",
    "def power(tx,rx,df,rtdb,dl,sig=0.023*u.km**2,tau=(2*u.min).cgs): # from literature\n",
    "    nametx=rtdb.Name[rtdb.Code==tx].iloc[0] # TX name from code\n",
    "    namerx=rtdb.Name[rtdb.Code==rx].iloc[0] # RX name from code\n",
    "    rtx=(df[nametx].to_numpy())*c.R_earth # distance to TX\n",
    "    rrx=(df[namerx].to_numpy())*c.R_earth # distance to RX\n",
    "    Dtx=rtdb.Diameter[rtdb.Code==tx].iloc[0]*u.m # TX diameter\n",
    "    Drx=rtdb.Diameter[rtdb.Code==rx].iloc[0]*u.m # RX diameter\n",
    "    Tsys=rtdb.Tsys[rtdb.Code==rx].iloc[0]*u.K # system temperature (RX)\n",
    "    freq=rtdb.Frequency[rtdb.Code==tx].iloc[0]*1e6*u.Hz # transmission freq TX\n",
    "    Ptx=rtdb.Power[rtdb.Code==tx].iloc[0]*1e3*u.W # transmission power TX\n",
    "    Gtx=Gain(Dtx,freq) # TX gain\n",
    "    Grx=Gain(Drx,freq) # RX gain\n",
    "    Prx=(Ptx*Gtx*Grx*(c.c/(freq))**2*sig/((4*np.pi)**3*rtx**2*rrx**2)).si # calculate Prx (Eq. B)\n",
    "    PrxdB=10*np.log10((Prx/u.mW).si)  #return Prx in dBm\n",
    "    Pratio=(Prx/Ptx).si  #return TX/RX power ratio\n",
    "\n",
    "    time=pd.to_datetime(dl.date)\n",
    "    dt=(time.iloc[1]-time.iloc[0]).total_seconds()*u.s # time increment in dl\n",
    "    lon=(dl.lonR.to_numpy())*u.deg.to(u.rad) # sub-radar longitude to radians\n",
    "    lat=(dl.latR.to_numpy())*u.deg.to(u.rad) # sub-radar latitude to radians\n",
    "    x=np.sin(lat)*np.cos(lon) # unit vector coord x\n",
    "    y=np.sin(lat)*np.sin(lon) # unit vector coord y\n",
    "    z=np.cos(lat) # unit vector coord z\n",
    "    pointing=np.vstack((x,y,z)).T # unit vector of subradar pointing\n",
    "    dtheta=np.arccos((pointing[1:]*pointing[:-1]).sum(axis=1)) # change in angle from moment to moment\n",
    "    omega=dtheta/dt # angular frequency\n",
    "    period=2*np.pi/omega # return rotation period\n",
    "    rotfreq=1/period # rotation frequency\n",
    "    phi=lat[1:] # subradar latitude\n",
    "    bw=4*np.pi*np.cos(phi)*370*u.m/((c.c/freq)*period) # Doppler bandwidth (Eq. C)\n",
    "    Nrms=(Tsys*c.k_B*np.sqrt(bw/tau)) # rms noise power (Eq. D)\n",
    "    SNR=(Prx[1:]/Nrms).si # return signal-to-noise ratio \n",
    "    return PrxdB, Pratio, SNR, omega, nametx,namerx\n",
    "\n",
    "def power_plots(PrxdB, Pratio, SNR, omega, nametx,namerx,df,tx,rx):\n",
    "    title='TX: '+nametx+'; RX: '+namerx\n",
    "\n",
    "    savefigs = False\n",
    "    # dBm plot\n",
    "    plt.figure(dpi=150)\n",
    "    plt.plot(df.datetime_jd-df.datetime_jd.min(),PrxdB)\n",
    "    plt.xlabel(\"JD-\"+str(df.datetime_jd.min()))\n",
    "    plt.ylabel(\"Prx (dBm)\")\n",
    "    if savefigs: plt.savefig('../Figures/German/dBm'+tx+'_'+rx+'.png')\n",
    "    plt.title(title)\n",
    "    plt.show()\n",
    "    # Power ratio plot\n",
    "    plt.figure(dpi=150)\n",
    "    plt.semilogy(df.datetime_jd-df.datetime_jd.min(),Pratio)\n",
    "    plt.xlabel(\"JD-\"+str(df.datetime_jd.min()))\n",
    "    plt.ylabel(\"Prx/Ptx \")\n",
    "    if savefigs: plt.savefig('../Figures/German/Pratio'+tx+'_'+rx+'.png')\n",
    "    plt.title(title)\n",
    "    plt.show()\n",
    "\n",
    "    # SNR plot\n",
    "    plt.figure(dpi=150)\n",
    "    plt.semilogy((df.datetime_jd-df.datetime_jd.min())[1:],SNR)\n",
    "    plt.xlabel(\"JD-\"+str(df.datetime_jd.min()))\n",
    "    plt.ylabel(\"SNR\")\n",
    "    if savefigs: plt.savefig('../Figures/German/SNR'+tx+'_'+rx+'.png')\n",
    "    plt.title(title)\n",
    "    plt.show()\n",
    "\n",
    "    # rotation period plot\n",
    "    plt.figure(dpi=150)\n",
    "    plt.plot((df.datetime_jd-df.datetime_jd.min())[1:],(omega*(180/np.pi)).to(u.h**-1))\n",
    "    plt.xlabel(\"JD-\"+str(df.datetime_jd.min()))\n",
    "    plt.ylabel(\"Angular frequency (deg/hour)\")\n",
    "    if savefigs: plt.savefig('../Figures/German/angfreq.png') # the same for all telescope pairs\n",
    "    plt.title(title)\n",
    "    plt.show()"
   ]
  },
  {
   "cell_type": "code",
   "execution_count": 5,
   "metadata": {
    "collapsed": true
   },
   "outputs": [],
   "source": [
    "df=pd.read_csv(\"../Data/observatory_distances_indexes.csv\")\n",
    "rtdb=pd.read_csv('../AllRadiotelescopes.csv')\n",
    "dl=pd.read_csv('../Data/subradar_points.csv')\n",
    "\n",
    "ephemeris = pd.read_csv(\"../ephemeris2.csv\")\n",
    "ephemeris['hours'] = 24*(ephemeris['datetime_jd']-ephemeris['datetime_jd'][0])\n",
    "MIN = ephemeris['delta (Rt)'].argmin()"
   ]
  },
  {
   "cell_type": "code",
   "execution_count": 6,
   "metadata": {},
   "outputs": [
    {
     "name": "stdout",
     "output_type": "stream",
     "text": [
      "['ARE', 'GOL', 'GBT', 'VLA', 'FAS', 'CDS', 'ECD', 'USU', 'EFE', 'LOV', 'MDS', 'PRK', 'AVN']\n"
     ]
    }
   ],
   "source": [
    "print([i for i in rtdb.Code])"
   ]
  },
  {
   "cell_type": "code",
   "execution_count": 7,
   "metadata": {},
   "outputs": [],
   "source": [
    "pairs = [\n",
    "    ('CDS','PRK'),\n",
    "    ('MDS','LOV'),\n",
    "    ('MDS','AVN'),\n",
    "    ('MDS','EFE'),\n",
    "    ('GOL','GBT'),\n",
    "    ('GOL','GBT'),\n",
    "    ('ARE','GBT'),\n",
    "]\n"
   ]
  },
  {
   "cell_type": "code",
   "execution_count": 12,
   "metadata": {
    "collapsed": true
   },
   "outputs": [
    {
     "ename": "TypeError",
     "evalue": "can't multiply sequence by non-int of type 'float'",
     "output_type": "error",
     "traceback": [
      "\u001b[0;31m---------------------------------------------------------------------------\u001b[0m",
      "\u001b[0;31mTypeError\u001b[0m                                 Traceback (most recent call last)",
      "\u001b[0;32m<ipython-input-12-ba49930c1597>\u001b[0m in \u001b[0;36m<module>\u001b[0;34m\u001b[0m\n\u001b[1;32m     59\u001b[0m \u001b[0mn\u001b[0m \u001b[0;34m=\u001b[0m \u001b[0;36m0\u001b[0m\u001b[0;34m\u001b[0m\u001b[0;34m\u001b[0m\u001b[0m\n\u001b[1;32m     60\u001b[0m \u001b[0;32mfor\u001b[0m \u001b[0mtx\u001b[0m\u001b[0;34m,\u001b[0m \u001b[0mrx\u001b[0m \u001b[0;32min\u001b[0m \u001b[0mpairs\u001b[0m\u001b[0;34m:\u001b[0m\u001b[0;34m\u001b[0m\u001b[0;34m\u001b[0m\u001b[0m\n\u001b[0;32m---> 61\u001b[0;31m     \u001b[0mPrxdB\u001b[0m\u001b[0;34m,\u001b[0m \u001b[0mPratio\u001b[0m\u001b[0;34m,\u001b[0m \u001b[0mSNR\u001b[0m\u001b[0;34m,\u001b[0m \u001b[0mperiod\u001b[0m\u001b[0;34m,\u001b[0m \u001b[0mnametx\u001b[0m\u001b[0;34m,\u001b[0m\u001b[0mnamerx\u001b[0m\u001b[0;34m=\u001b[0m \u001b[0mpower\u001b[0m\u001b[0;34m(\u001b[0m\u001b[0mtx\u001b[0m\u001b[0;34m,\u001b[0m\u001b[0mrx\u001b[0m\u001b[0;34m,\u001b[0m\u001b[0mdf\u001b[0m\u001b[0;34m,\u001b[0m\u001b[0mrtdb\u001b[0m\u001b[0;34m,\u001b[0m\u001b[0mdl\u001b[0m\u001b[0;34m)\u001b[0m\u001b[0;34m\u001b[0m\u001b[0;34m\u001b[0m\u001b[0m\n\u001b[0m\u001b[1;32m     62\u001b[0m     \u001b[0mall_power_plots\u001b[0m\u001b[0;34m(\u001b[0m\u001b[0maxes\u001b[0m\u001b[0;34m.\u001b[0m\u001b[0mflat\u001b[0m\u001b[0;34m,\u001b[0m \u001b[0mn\u001b[0m\u001b[0;34m,\u001b[0m \u001b[0mPrxdB\u001b[0m\u001b[0;34m,\u001b[0m \u001b[0mPratio\u001b[0m\u001b[0;34m,\u001b[0m \u001b[0mSNR\u001b[0m\u001b[0;34m,\u001b[0m \u001b[0mnametx\u001b[0m\u001b[0;34m,\u001b[0m \u001b[0mnamerx\u001b[0m\u001b[0;34m,\u001b[0m \u001b[0mdf\u001b[0m\u001b[0;34m,\u001b[0m \u001b[0mtx\u001b[0m\u001b[0;34m,\u001b[0m \u001b[0mrx\u001b[0m\u001b[0;34m)\u001b[0m\u001b[0;34m\u001b[0m\u001b[0;34m\u001b[0m\u001b[0m\n\u001b[1;32m     63\u001b[0m     \u001b[0mn\u001b[0m \u001b[0;34m+=\u001b[0m \u001b[0;36m1\u001b[0m\u001b[0;34m\u001b[0m\u001b[0;34m\u001b[0m\u001b[0m\n",
      "\u001b[0;32m<ipython-input-11-5b14ffa05e00>\u001b[0m in \u001b[0;36mpower\u001b[0;34m(tx, rx, df, rtdb, dl, sig, tau)\u001b[0m\n\u001b[1;32m     15\u001b[0m     \u001b[0mTsys\u001b[0m\u001b[0;34m=\u001b[0m\u001b[0;36m25\u001b[0m\u001b[0;34m*\u001b[0m\u001b[0mu\u001b[0m\u001b[0;34m.\u001b[0m\u001b[0mK\u001b[0m \u001b[0;31m#rtdb.Tsys[rtdb.Code==rx].iloc[0]*u.K # system temperature (RX)\u001b[0m\u001b[0;34m\u001b[0m\u001b[0;34m\u001b[0m\u001b[0m\n\u001b[1;32m     16\u001b[0m     \u001b[0mfreq\u001b[0m\u001b[0;34m=\u001b[0m\u001b[0;36m5000\u001b[0m\u001b[0;34m*\u001b[0m\u001b[0;36m1e6\u001b[0m\u001b[0;34m*\u001b[0m\u001b[0mu\u001b[0m\u001b[0;34m.\u001b[0m\u001b[0mHz\u001b[0m \u001b[0;31m#rtdb.Frequency[rtdb.Code==tx].iloc[0]*1e6*u.Hz # transmission freq TX\u001b[0m\u001b[0;34m\u001b[0m\u001b[0;34m\u001b[0m\u001b[0m\n\u001b[0;32m---> 17\u001b[0;31m     \u001b[0mPtx\u001b[0m\u001b[0;34m=\u001b[0m\u001b[0mrtdb\u001b[0m\u001b[0;34m.\u001b[0m\u001b[0mPower\u001b[0m\u001b[0;34m[\u001b[0m\u001b[0mrtdb\u001b[0m\u001b[0;34m.\u001b[0m\u001b[0mCode\u001b[0m\u001b[0;34m==\u001b[0m\u001b[0mtx\u001b[0m\u001b[0;34m]\u001b[0m\u001b[0;34m.\u001b[0m\u001b[0miloc\u001b[0m\u001b[0;34m[\u001b[0m\u001b[0;36m0\u001b[0m\u001b[0;34m]\u001b[0m\u001b[0;34m*\u001b[0m\u001b[0;36m1e3\u001b[0m\u001b[0;34m*\u001b[0m\u001b[0mu\u001b[0m\u001b[0;34m.\u001b[0m\u001b[0mW\u001b[0m \u001b[0;31m# transmission power TX\u001b[0m\u001b[0;34m\u001b[0m\u001b[0;34m\u001b[0m\u001b[0m\n\u001b[0m\u001b[1;32m     18\u001b[0m     \u001b[0mGtx\u001b[0m\u001b[0;34m=\u001b[0m\u001b[0mGain\u001b[0m\u001b[0;34m(\u001b[0m\u001b[0mDtx\u001b[0m\u001b[0;34m,\u001b[0m\u001b[0mfreq\u001b[0m\u001b[0;34m)\u001b[0m \u001b[0;31m# TX gain\u001b[0m\u001b[0;34m\u001b[0m\u001b[0;34m\u001b[0m\u001b[0m\n\u001b[1;32m     19\u001b[0m     \u001b[0mGrx\u001b[0m\u001b[0;34m=\u001b[0m\u001b[0mGain\u001b[0m\u001b[0;34m(\u001b[0m\u001b[0mDrx\u001b[0m\u001b[0;34m,\u001b[0m\u001b[0mfreq\u001b[0m\u001b[0;34m)\u001b[0m \u001b[0;31m# RX gain\u001b[0m\u001b[0;34m\u001b[0m\u001b[0;34m\u001b[0m\u001b[0m\n",
      "\u001b[0;31mTypeError\u001b[0m: can't multiply sequence by non-int of type 'float'"
     ]
    },
    {
     "data": {
      "image/png": "[encoded data removed]",
      "text/plain": [
       "<Figure size 792x720 with 4 Axes>"
      ]
     },
     "metadata": {
      "needs_background": "light"
     },
     "output_type": "display_data"
    }
   ],
   "source": [
    "def x_axis(ax,i):\n",
    "    ax.grid()\n",
    "    ax.set_xlim([0,ephemeris['hours'].iloc[-1]])\n",
    "    xticks = range(6,len(ephemeris),48)\n",
    "    ax.set_xlim([ephemeris['hours'].iloc[6],ephemeris['hours'].iloc[-1]])\n",
    "    ax.set_xticks([ephemeris['hours'][i] for i in xticks])\n",
    "\n",
    "    if i != 10:\n",
    "        ax.set_xticklabels([ephemeris['datetime_str'][i][-5:] for i in xticks],size=16)\n",
    "        ax.set_xlabel(\"UT (2029-04-13 and 2029-04-14)\",size=20)\n",
    "    else:\n",
    "        ax.set_xticklabels([])\n",
    "\n",
    "    # if i == 3:\n",
    "    #     ax.legend(fontsize=15)\n",
    "\n",
    "def all_power_plots(axes,n,PrxdB, Pratio, SNR, nametx,namerx,df,tx,rx):\n",
    "    title='TX: {} \\nRX: {}'.format(nametx,namerx)\n",
    "\n",
    "    savefigs = False\n",
    "    styles = ['-',':','--','-.','*-']\n",
    "    \n",
    "    i = 0\n",
    "    ax = axes[i]\n",
    "    # dBm plot\n",
    "    ax.plot(ephemeris['hours'],PrxdB,styles[n],lw=3,markevery=10,ms=10)\n",
    "    ax.set_title(\"Reception Power (Prx)\")\n",
    "    ax.set_ylabel(\"Prx (dBm)\")\n",
    "    x_axis(ax,i)    \n",
    "\n",
    "    i += 1\n",
    "    ax = axes[i]\n",
    "    # Power ratio plot\n",
    "    ax.semilogy(ephemeris['hours'],Pratio,styles[n],lw=3,markevery=10,ms=10)\n",
    "    ax.set_title(\"Prx/Ptx\")\n",
    "    x_axis(ax,i)\n",
    "\n",
    "    i += 1\n",
    "    ax = axes[i]\n",
    "    # SNR plot\n",
    "    ax.semilogy(ephemeris['hours'][1:],SNR,styles[n],lw=3,markevery=10,ms=10)\n",
    "    ax.set_title(\"SNR\")\n",
    "    x_axis(ax,i)\n",
    "\n",
    "    i += 1\n",
    "    ax = axes[i]\n",
    "    # rotation period plot\n",
    "    ax.plot([],[],styles[n],lw=3,markevery=10,ms=15,label=title)\n",
    "    # ax.set_ylabel(\"Angular frequency (deg/hour)\")\n",
    "    # ax.legend(fontsize=15)\n",
    "    x_axis(ax,i)\n",
    "\n",
    "fig, axes = plt.subplots(2,2,figsize=(11,10))\n",
    "\n",
    "# for ax in axes.flat:\n",
    "#     ax.set_prop_cycle(plt.cycler('color', plt.cm.nipy_spectral(np.linspace(0.1,0.9,5)**2)))\n",
    "# fig.suptitle(\"Reception (rx) and Transmission (tx) Radar Power\")\n",
    "\n",
    "n = 0\n",
    "for tx, rx in pairs:\n",
    "    PrxdB, Pratio, SNR, period, nametx,namerx= power(tx,rx,df,rtdb,dl)\n",
    "    all_power_plots(axes.flat, n, PrxdB, Pratio, SNR, nametx, namerx, df, tx, rx)\n",
    "    n += 1\n",
    "    ax = axes.flat[-1]\n",
    "handles, labels = axes.flat[-1].get_legend_handles_labels()\n",
    "fig.legend(handles, labels, loc=\"lower right\",fontsize=16, labelspacing=1.2, \\\n",
    "    bbox_to_anchor=(0.45, 0.09, 0.5, 0.5), fancybox=False, edgecolor=(0,0,0))\n",
    "fig.delaxes(axes.flat[-1])\n",
    "fig.tight_layout()\n",
    "\n",
    "# name = \"../Figures/fig6_radio\"\n",
    "# plt.savefig(name+\".pdf\",bbox_inches='tight')\n",
    "# plt.savefig(name+\".png\",bbox_inches='tight')"
   ]
  }
 ],
 "metadata": {
  "interpreter": {
   "hash": "1448b48b023bcc9c3d4a79e814720a10ca6d4244f75e0f7ce4af58f96ba2b7d3"
  },
  "kernelspec": {
   "display_name": "Python 3.8.8 64-bit ('base': conda)",
   "name": "python3"
  },
  "language_info": {
   "codemirror_mode": {
    "name": "ipython",
    "version": 3
   },
   "file_extension": ".py",
   "mimetype": "text/x-python",
   "name": "python",
   "nbconvert_exporter": "python",
   "pygments_lexer": "ipython3",
   "version": "3.8.8"
  }
 },
 "nbformat": 4,
 "nbformat_minor": 2
}
